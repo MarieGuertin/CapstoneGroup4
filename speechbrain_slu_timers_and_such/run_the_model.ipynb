{
  "cells": [
    {
      "cell_type": "markdown",
      "metadata": {
        "colab_type": "text",
        "id": "view-in-github"
      },
      "source": [
        "<a href=\"https://colab.research.google.com/github/MarieGuertin/CapstoneGroup4/blob/main/run_the_model.ipynb\" target=\"_parent\"><img src=\"https://colab.research.google.com/assets/colab-badge.svg\" alt=\"Open In Colab\"/></a>"
      ]
    },
    {
      "cell_type": "markdown",
      "metadata": {
        "id": "SIt3wY2GIxKY"
      },
      "source": [
        "##Setup"
      ]
    },
    {
      "cell_type": "code",
      "execution_count": 1,
      "metadata": {
        "colab": {
          "base_uri": "https://localhost:8080/"
        },
        "id": "w-0NMqQ9HvBt",
        "outputId": "340e22c0-dbb9-4000-c6ad-4e6d1cf229bd"
      },
      "outputs": [
        {
          "name": "stdout",
          "output_type": "stream",
          "text": [
            "fatal: destination path 'speechbrain' already exists and is not an empty directory.\n"
          ]
        }
      ],
      "source": [
        "!git clone https://github.com/speechbrain/speechbrain.git"
      ]
    },
    {
      "cell_type": "code",
      "execution_count": 2,
      "metadata": {
        "colab": {
          "base_uri": "https://localhost:8080/"
        },
        "id": "3BUEwh6UMwBS",
        "outputId": "17d18034-9f22-4b7f-eebf-6e863e9d43de"
      },
      "outputs": [
        {
          "name": "stdout",
          "output_type": "stream",
          "text": [
            "Requirement already satisfied: speechbrain in ./speechbrain (0.5.10)\n",
            "Requirement already satisfied: hyperpyyaml in /usr/local/lib/python3.7/dist-packages (from speechbrain) (1.0.0)\n",
            "Requirement already satisfied: joblib in /usr/local/lib/python3.7/dist-packages (from speechbrain) (1.1.0)\n",
            "Requirement already satisfied: numpy in /usr/local/lib/python3.7/dist-packages (from speechbrain) (1.19.5)\n",
            "Requirement already satisfied: packaging in /usr/local/lib/python3.7/dist-packages (from speechbrain) (21.3)\n",
            "Requirement already satisfied: scipy in /usr/local/lib/python3.7/dist-packages (from speechbrain) (1.4.1)\n",
            "Requirement already satisfied: sentencepiece in /usr/local/lib/python3.7/dist-packages (from speechbrain) (0.1.96)\n",
            "Requirement already satisfied: torch<=1.11,>=1.7 in /usr/local/lib/python3.7/dist-packages (from speechbrain) (1.10.0+cu111)\n",
            "Requirement already satisfied: torchaudio in /usr/local/lib/python3.7/dist-packages (from speechbrain) (0.10.0+cu111)\n",
            "Requirement already satisfied: tqdm in /usr/local/lib/python3.7/dist-packages (from speechbrain) (4.62.3)\n",
            "Requirement already satisfied: huggingface_hub in /usr/local/lib/python3.7/dist-packages (from speechbrain) (0.2.1)\n",
            "Requirement already satisfied: typing-extensions in /usr/local/lib/python3.7/dist-packages (from torch<=1.11,>=1.7->speechbrain) (3.10.0.2)\n",
            "Requirement already satisfied: pyyaml in /usr/local/lib/python3.7/dist-packages (from huggingface_hub->speechbrain) (6.0)\n",
            "Requirement already satisfied: importlib-metadata in /usr/local/lib/python3.7/dist-packages (from huggingface_hub->speechbrain) (4.8.2)\n",
            "Requirement already satisfied: requests in /usr/local/lib/python3.7/dist-packages (from huggingface_hub->speechbrain) (2.23.0)\n",
            "Requirement already satisfied: filelock in /usr/local/lib/python3.7/dist-packages (from huggingface_hub->speechbrain) (3.4.0)\n",
            "Requirement already satisfied: pyparsing!=3.0.5,>=2.0.2 in /usr/local/lib/python3.7/dist-packages (from packaging->speechbrain) (3.0.6)\n",
            "Requirement already satisfied: ruamel.yaml>=0.15 in /usr/local/lib/python3.7/dist-packages (from hyperpyyaml->speechbrain) (0.17.17)\n",
            "Requirement already satisfied: ruamel.yaml.clib>=0.1.2 in /usr/local/lib/python3.7/dist-packages (from ruamel.yaml>=0.15->hyperpyyaml->speechbrain) (0.2.6)\n",
            "Requirement already satisfied: zipp>=0.5 in /usr/local/lib/python3.7/dist-packages (from importlib-metadata->huggingface_hub->speechbrain) (3.6.0)\n",
            "Requirement already satisfied: idna<3,>=2.5 in /usr/local/lib/python3.7/dist-packages (from requests->huggingface_hub->speechbrain) (2.10)\n",
            "Requirement already satisfied: certifi>=2017.4.17 in /usr/local/lib/python3.7/dist-packages (from requests->huggingface_hub->speechbrain) (2021.10.8)\n",
            "Requirement already satisfied: urllib3!=1.25.0,!=1.25.1,<1.26,>=1.21.1 in /usr/local/lib/python3.7/dist-packages (from requests->huggingface_hub->speechbrain) (1.24.3)\n",
            "Requirement already satisfied: chardet<4,>=3.0.2 in /usr/local/lib/python3.7/dist-packages (from requests->huggingface_hub->speechbrain) (3.0.4)\n"
          ]
        }
      ],
      "source": [
        "!pip install speechbrain"
      ]
    },
    {
      "cell_type": "code",
      "execution_count": 3,
      "metadata": {
        "colab": {
          "base_uri": "https://localhost:8080/"
        },
        "id": "sMTAicmRIIS-",
        "outputId": "9df21987-82a5-445c-88e4-52636cfb49af"
      },
      "outputs": [
        {
          "name": "stdout",
          "output_type": "stream",
          "text": [
            "/content/speechbrain\n",
            "Ignoring SoundFile: markers 'sys_platform == \"win32\"' don't match your environment\n",
            "Requirement already satisfied: black==19.10b0 in /usr/local/lib/python3.7/dist-packages (from -r lint-requirements.txt (line 1)) (19.10b0)\n",
            "Requirement already satisfied: flake8==3.7.9 in /usr/local/lib/python3.7/dist-packages (from -r lint-requirements.txt (line 2)) (3.7.9)\n",
            "Requirement already satisfied: pycodestyle==2.5.0 in /usr/local/lib/python3.7/dist-packages (from -r lint-requirements.txt (line 3)) (2.5.0)\n",
            "Requirement already satisfied: pytest==5.4.1 in /usr/local/lib/python3.7/dist-packages (from -r lint-requirements.txt (line 4)) (5.4.1)\n",
            "Requirement already satisfied: yamllint==1.23.0 in /usr/local/lib/python3.7/dist-packages (from -r lint-requirements.txt (line 5)) (1.23.0)\n",
            "Requirement already satisfied: huggingface_hub>=0.0.6 in /usr/local/lib/python3.7/dist-packages (from -r requirements.txt (line 2)) (0.2.1)\n",
            "Requirement already satisfied: hyperpyyaml>=0.0.1 in /usr/local/lib/python3.7/dist-packages (from -r requirements.txt (line 3)) (1.0.0)\n",
            "Requirement already satisfied: joblib>=0.14.1 in /usr/local/lib/python3.7/dist-packages (from -r requirements.txt (line 4)) (1.1.0)\n",
            "Requirement already satisfied: numpy>=1.17.0 in /usr/local/lib/python3.7/dist-packages (from -r requirements.txt (line 5)) (1.19.5)\n",
            "Requirement already satisfied: packaging in /usr/local/lib/python3.7/dist-packages (from -r requirements.txt (line 6)) (21.3)\n",
            "Requirement already satisfied: pre-commit>=2.3.0 in /usr/local/lib/python3.7/dist-packages (from -r requirements.txt (line 7)) (2.16.0)\n",
            "Requirement already satisfied: scipy>=1.4.1 in /usr/local/lib/python3.7/dist-packages (from -r requirements.txt (line 8)) (1.4.1)\n",
            "Requirement already satisfied: sentencepiece>=0.1.91 in /usr/local/lib/python3.7/dist-packages (from -r requirements.txt (line 9)) (0.1.96)\n",
            "Requirement already satisfied: torch<=1.10.1,>=1.8.0 in /usr/local/lib/python3.7/dist-packages (from -r requirements.txt (line 11)) (1.10.0+cu111)\n",
            "Requirement already satisfied: torchaudio<=0.10.1,>=0.8.0 in /usr/local/lib/python3.7/dist-packages (from -r requirements.txt (line 12)) (0.10.0+cu111)\n",
            "Requirement already satisfied: tqdm>=4.42.0 in /usr/local/lib/python3.7/dist-packages (from -r requirements.txt (line 13)) (4.62.3)\n",
            "Requirement already satisfied: attrs>=18.1.0 in /usr/local/lib/python3.7/dist-packages (from black==19.10b0->-r lint-requirements.txt (line 1)) (21.2.0)\n",
            "Requirement already satisfied: regex in /usr/local/lib/python3.7/dist-packages (from black==19.10b0->-r lint-requirements.txt (line 1)) (2019.12.20)\n",
            "Requirement already satisfied: pathspec<1,>=0.6 in /usr/local/lib/python3.7/dist-packages (from black==19.10b0->-r lint-requirements.txt (line 1)) (0.9.0)\n",
            "Requirement already satisfied: typed-ast>=1.4.0 in /usr/local/lib/python3.7/dist-packages (from black==19.10b0->-r lint-requirements.txt (line 1)) (1.5.1)\n",
            "Requirement already satisfied: appdirs in /usr/local/lib/python3.7/dist-packages (from black==19.10b0->-r lint-requirements.txt (line 1)) (1.4.4)\n",
            "Requirement already satisfied: toml>=0.9.4 in /usr/local/lib/python3.7/dist-packages (from black==19.10b0->-r lint-requirements.txt (line 1)) (0.10.2)\n",
            "Requirement already satisfied: click>=6.5 in /usr/local/lib/python3.7/dist-packages (from black==19.10b0->-r lint-requirements.txt (line 1)) (7.1.2)\n",
            "Requirement already satisfied: pyflakes<2.2.0,>=2.1.0 in /usr/local/lib/python3.7/dist-packages (from flake8==3.7.9->-r lint-requirements.txt (line 2)) (2.1.1)\n",
            "Requirement already satisfied: mccabe<0.7.0,>=0.6.0 in /usr/local/lib/python3.7/dist-packages (from flake8==3.7.9->-r lint-requirements.txt (line 2)) (0.6.1)\n",
            "Requirement already satisfied: entrypoints<0.4.0,>=0.3.0 in /usr/local/lib/python3.7/dist-packages (from flake8==3.7.9->-r lint-requirements.txt (line 2)) (0.3)\n",
            "Requirement already satisfied: more-itertools>=4.0.0 in /usr/local/lib/python3.7/dist-packages (from pytest==5.4.1->-r lint-requirements.txt (line 4)) (8.12.0)\n",
            "Requirement already satisfied: pluggy<1.0,>=0.12 in /usr/local/lib/python3.7/dist-packages (from pytest==5.4.1->-r lint-requirements.txt (line 4)) (0.13.1)\n",
            "Requirement already satisfied: wcwidth in /usr/local/lib/python3.7/dist-packages (from pytest==5.4.1->-r lint-requirements.txt (line 4)) (0.2.5)\n",
            "Requirement already satisfied: py>=1.5.0 in /usr/local/lib/python3.7/dist-packages (from pytest==5.4.1->-r lint-requirements.txt (line 4)) (1.11.0)\n",
            "Requirement already satisfied: importlib-metadata>=0.12 in /usr/local/lib/python3.7/dist-packages (from pytest==5.4.1->-r lint-requirements.txt (line 4)) (4.8.2)\n",
            "Requirement already satisfied: pyyaml in /usr/local/lib/python3.7/dist-packages (from yamllint==1.23.0->-r lint-requirements.txt (line 5)) (6.0)\n",
            "Requirement already satisfied: typing-extensions>=3.7.4.3 in /usr/local/lib/python3.7/dist-packages (from huggingface_hub>=0.0.6->-r requirements.txt (line 2)) (3.10.0.2)\n",
            "Requirement already satisfied: filelock in /usr/local/lib/python3.7/dist-packages (from huggingface_hub>=0.0.6->-r requirements.txt (line 2)) (3.4.0)\n",
            "Requirement already satisfied: requests in /usr/local/lib/python3.7/dist-packages (from huggingface_hub>=0.0.6->-r requirements.txt (line 2)) (2.23.0)\n",
            "Requirement already satisfied: ruamel.yaml>=0.15 in /usr/local/lib/python3.7/dist-packages (from hyperpyyaml>=0.0.1->-r requirements.txt (line 3)) (0.17.17)\n",
            "Requirement already satisfied: pyparsing!=3.0.5,>=2.0.2 in /usr/local/lib/python3.7/dist-packages (from packaging->-r requirements.txt (line 6)) (3.0.6)\n",
            "Requirement already satisfied: cfgv>=2.0.0 in /usr/local/lib/python3.7/dist-packages (from pre-commit>=2.3.0->-r requirements.txt (line 7)) (3.3.1)\n",
            "Requirement already satisfied: identify>=1.0.0 in /usr/local/lib/python3.7/dist-packages (from pre-commit>=2.3.0->-r requirements.txt (line 7)) (2.4.0)\n",
            "Requirement already satisfied: nodeenv>=0.11.1 in /usr/local/lib/python3.7/dist-packages (from pre-commit>=2.3.0->-r requirements.txt (line 7)) (1.6.0)\n",
            "Requirement already satisfied: virtualenv>=20.0.8 in /usr/local/lib/python3.7/dist-packages (from pre-commit>=2.3.0->-r requirements.txt (line 7)) (20.10.0)\n",
            "Requirement already satisfied: zipp>=0.5 in /usr/local/lib/python3.7/dist-packages (from importlib-metadata>=0.12->pytest==5.4.1->-r lint-requirements.txt (line 4)) (3.6.0)\n",
            "Requirement already satisfied: ruamel.yaml.clib>=0.1.2 in /usr/local/lib/python3.7/dist-packages (from ruamel.yaml>=0.15->hyperpyyaml>=0.0.1->-r requirements.txt (line 3)) (0.2.6)\n",
            "Requirement already satisfied: backports.entry-points-selectable>=1.0.4 in /usr/local/lib/python3.7/dist-packages (from virtualenv>=20.0.8->pre-commit>=2.3.0->-r requirements.txt (line 7)) (1.1.1)\n",
            "Requirement already satisfied: distlib<1,>=0.3.1 in /usr/local/lib/python3.7/dist-packages (from virtualenv>=20.0.8->pre-commit>=2.3.0->-r requirements.txt (line 7)) (0.3.4)\n",
            "Requirement already satisfied: platformdirs<3,>=2 in /usr/local/lib/python3.7/dist-packages (from virtualenv>=20.0.8->pre-commit>=2.3.0->-r requirements.txt (line 7)) (2.4.0)\n",
            "Requirement already satisfied: six<2,>=1.9.0 in /usr/local/lib/python3.7/dist-packages (from virtualenv>=20.0.8->pre-commit>=2.3.0->-r requirements.txt (line 7)) (1.15.0)\n",
            "Requirement already satisfied: chardet<4,>=3.0.2 in /usr/local/lib/python3.7/dist-packages (from requests->huggingface_hub>=0.0.6->-r requirements.txt (line 2)) (3.0.4)\n",
            "Requirement already satisfied: certifi>=2017.4.17 in /usr/local/lib/python3.7/dist-packages (from requests->huggingface_hub>=0.0.6->-r requirements.txt (line 2)) (2021.10.8)\n",
            "Requirement already satisfied: idna<3,>=2.5 in /usr/local/lib/python3.7/dist-packages (from requests->huggingface_hub>=0.0.6->-r requirements.txt (line 2)) (2.10)\n",
            "Requirement already satisfied: urllib3!=1.25.0,!=1.25.1,<1.26,>=1.21.1 in /usr/local/lib/python3.7/dist-packages (from requests->huggingface_hub>=0.0.6->-r requirements.txt (line 2)) (1.24.3)\n",
            "Obtaining file:///content/speechbrain\n",
            "  Installing build dependencies ... \u001b[?25l\u001b[?25hdone\n",
            "  Getting requirements to build wheel ... \u001b[?25l\u001b[?25hdone\n",
            "    Preparing wheel metadata ... \u001b[?25l\u001b[?25hdone\n",
            "Requirement already satisfied: scipy in /usr/local/lib/python3.7/dist-packages (from speechbrain==0.5.10) (1.4.1)\n",
            "Requirement already satisfied: huggingface-hub in /usr/local/lib/python3.7/dist-packages (from speechbrain==0.5.10) (0.2.1)\n",
            "Requirement already satisfied: numpy in /usr/local/lib/python3.7/dist-packages (from speechbrain==0.5.10) (1.19.5)\n",
            "Requirement already satisfied: torchaudio in /usr/local/lib/python3.7/dist-packages (from speechbrain==0.5.10) (0.10.0+cu111)\n",
            "Requirement already satisfied: tqdm in /usr/local/lib/python3.7/dist-packages (from speechbrain==0.5.10) (4.62.3)\n",
            "Requirement already satisfied: packaging in /usr/local/lib/python3.7/dist-packages (from speechbrain==0.5.10) (21.3)\n",
            "Requirement already satisfied: sentencepiece in /usr/local/lib/python3.7/dist-packages (from speechbrain==0.5.10) (0.1.96)\n",
            "Requirement already satisfied: joblib in /usr/local/lib/python3.7/dist-packages (from speechbrain==0.5.10) (1.1.0)\n",
            "Requirement already satisfied: hyperpyyaml in /usr/local/lib/python3.7/dist-packages (from speechbrain==0.5.10) (1.0.0)\n",
            "Requirement already satisfied: torch<=1.11,>=1.7 in /usr/local/lib/python3.7/dist-packages (from speechbrain==0.5.10) (1.10.0+cu111)\n",
            "Requirement already satisfied: typing-extensions in /usr/local/lib/python3.7/dist-packages (from torch<=1.11,>=1.7->speechbrain==0.5.10) (3.10.0.2)\n",
            "Requirement already satisfied: requests in /usr/local/lib/python3.7/dist-packages (from huggingface-hub->speechbrain==0.5.10) (2.23.0)\n",
            "Requirement already satisfied: importlib-metadata in /usr/local/lib/python3.7/dist-packages (from huggingface-hub->speechbrain==0.5.10) (4.8.2)\n",
            "Requirement already satisfied: pyyaml in /usr/local/lib/python3.7/dist-packages (from huggingface-hub->speechbrain==0.5.10) (6.0)\n",
            "Requirement already satisfied: filelock in /usr/local/lib/python3.7/dist-packages (from huggingface-hub->speechbrain==0.5.10) (3.4.0)\n",
            "Requirement already satisfied: pyparsing!=3.0.5,>=2.0.2 in /usr/local/lib/python3.7/dist-packages (from packaging->speechbrain==0.5.10) (3.0.6)\n",
            "Requirement already satisfied: ruamel.yaml>=0.15 in /usr/local/lib/python3.7/dist-packages (from hyperpyyaml->speechbrain==0.5.10) (0.17.17)\n",
            "Requirement already satisfied: ruamel.yaml.clib>=0.1.2 in /usr/local/lib/python3.7/dist-packages (from ruamel.yaml>=0.15->hyperpyyaml->speechbrain==0.5.10) (0.2.6)\n",
            "Requirement already satisfied: zipp>=0.5 in /usr/local/lib/python3.7/dist-packages (from importlib-metadata->huggingface-hub->speechbrain==0.5.10) (3.6.0)\n",
            "Requirement already satisfied: urllib3!=1.25.0,!=1.25.1,<1.26,>=1.21.1 in /usr/local/lib/python3.7/dist-packages (from requests->huggingface-hub->speechbrain==0.5.10) (1.24.3)\n",
            "Requirement already satisfied: chardet<4,>=3.0.2 in /usr/local/lib/python3.7/dist-packages (from requests->huggingface-hub->speechbrain==0.5.10) (3.0.4)\n",
            "Requirement already satisfied: certifi>=2017.4.17 in /usr/local/lib/python3.7/dist-packages (from requests->huggingface-hub->speechbrain==0.5.10) (2021.10.8)\n",
            "Requirement already satisfied: idna<3,>=2.5 in /usr/local/lib/python3.7/dist-packages (from requests->huggingface-hub->speechbrain==0.5.10) (2.10)\n",
            "Installing collected packages: speechbrain\n",
            "  Attempting uninstall: speechbrain\n",
            "    Found existing installation: speechbrain 0.5.10\n",
            "    Can't uninstall 'speechbrain'. No files were found to uninstall.\n",
            "  Running setup.py develop for speechbrain\n",
            "Successfully installed speechbrain-0.5.10\n"
          ]
        }
      ],
      "source": [
        "%cd speechbrain\n",
        "!pip install -r requirements.txt\n",
        "!pip install --editable ."
      ]
    },
    {
      "cell_type": "code",
      "execution_count": 3,
      "metadata": {
        "id": "Qg_k2xyWIcPQ"
      },
      "outputs": [],
      "source": []
    },
    {
      "cell_type": "markdown",
      "metadata": {
        "id": "s75BWelYIz12"
      },
      "source": [
        "##SLU Timers and Such"
      ]
    },
    {
      "cell_type": "markdown",
      "metadata": {
        "id": "L3tJAIfvSqCJ"
      },
      "source": [
        "###Download pretrained model with direct approach"
      ]
    },
    {
      "cell_type": "code",
      "execution_count": 1,
      "metadata": {
        "colab": {
          "base_uri": "https://localhost:8080/",
          "height": 54
        },
        "id": "qX2sdZHVUaCG",
        "outputId": "de15b291-9ac4-4cd5-fae0-d3360da0277e"
      },
      "outputs": [
        {
          "name": "stderr",
          "output_type": "stream",
          "text": [
            "Downloading: 100%|██████████| 2.54k/2.54k [00:00<00:00, 603kB/s]\n",
            "Downloading: 100%|██████████| 37.2M/37.2M [00:04<00:00, 7.89MB/s]\n",
            "Downloading: 100%|██████████| 238k/238k [00:00<00:00, 2.45MB/s]\n",
            "Downloading: 100%|██████████| 4.49k/4.49k [00:00<00:00, 701kB/s]\n",
            "Downloading: 100%|██████████| 1.41k/1.41k [00:00<00:00, 612kB/s]\n",
            "Downloading: 100%|██████████| 480M/480M [01:00<00:00, 7.97MB/s] \n",
            "Downloading: 100%|██████████| 212M/212M [00:29<00:00, 7.24MB/s] \n",
            "Downloading: 100%|██████████| 253k/253k [00:00<00:00, 3.56MB/s]\n"
          ]
        },
        {
          "data": {
            "text/plain": [
              "\"{'intent': 'SimpleMath', 'slots': {'number1': 37.67, 'number2': 75.7, 'op': ' minus '}}\""
            ]
          },
          "execution_count": 1,
          "metadata": {},
          "output_type": "execute_result"
        }
      ],
      "source": [
        "from speechbrain.pretrained import EndToEndSLU\n",
        "slu = EndToEndSLU.from_hparams(\"speechbrain/slu-timers-and-such-direct-librispeech-asr\")\n",
        "slu.decode_file(\"speechbrain/slu-timers-and-such-direct-librispeech-asr/math.wav\")"
      ]
    },
    {
      "cell_type": "code",
      "execution_count": 16,
      "metadata": {
        "colab": {
          "base_uri": "https://localhost:8080/"
        },
        "id": "HZvlR1S3VZUg",
        "outputId": "1376c7dd-3342-46d6-f798-8af3904acb94"
      },
      "outputs": [
        {
          "name": "stdout",
          "output_type": "stream",
          "text": [
            "decoupled\t\tLM\t    prepare.py\t       README.md\n",
            "direct\t\t\tmath.wav    pretrained_models  Tokenizer\n",
            "extra_requirements.txt\tmultistage  __pycache__\n"
          ]
        }
      ],
      "source": [
        "!ls"
      ]
    },
    {
      "cell_type": "code",
      "execution_count": null,
      "metadata": {
        "colab": {
          "base_uri": "https://localhost:8080/"
        },
        "id": "0JX9aCa1Sgg8",
        "outputId": "5b8eddce-d0ee-424d-a64f-fa96aa654e0c"
      },
      "outputs": [
        {
          "name": "stdout",
          "output_type": "stream",
          "text": [
            "/content/speechbrain/recipes/timers-and-such/direct\n",
            "mkdir: cannot create directory ‘data’: File exists\n",
            "Downloading https://zenodo.org/record/4623772/files/timers-and-such-v1.0.zip?download=1 to ./direct/data/timers-and-such.zip\n"
          ]
        },
        {
          "name": "stderr",
          "output_type": "stream",
          "text": [
            "timers-and-such-v1.0.zip?download=1:  15%|█▌        | 2.02G/13.1G [02:05<12:05, 15.3MB/s]"
          ]
        }
      ],
      "source": [
        "import prepare\n",
        "%cd /content/speechbrain/recipes/timers-and-such/direct\n",
        "!mkdir data\n",
        "!mkdir save\n",
        "prepare.prepare_TAS(\"./direct/data\", \"./direct/save\", \"direct\", None, False)"
      ]
    },
    {
      "cell_type": "code",
      "execution_count": null,
      "metadata": {
        "id": "-30lllYSV5bI"
      },
      "outputs": [],
      "source": []
    }
  ],
  "metadata": {
    "colab": {
      "authorship_tag": "ABX9TyOpEkf9ZHQtl6I7uPWmhNIu",
      "include_colab_link": true,
      "name": "run_the_model.ipynb",
      "provenance": []
    },
    "kernelspec": {
      "display_name": "Python 3",
      "name": "python3"
    },
    "language_info": {
      "codemirror_mode": {
        "name": "ipython",
        "version": 3
      },
      "file_extension": ".py",
      "mimetype": "text/x-python",
      "name": "python",
      "nbconvert_exporter": "python",
      "pygments_lexer": "ipython3",
      "version": "3.9.7"
    }
  },
  "nbformat": 4,
  "nbformat_minor": 0
}
