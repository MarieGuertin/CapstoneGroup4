{
  "nbformat": 4,
  "nbformat_minor": 0,
  "metadata": {
    "colab": {
      "name": "dfsdm_to_wav.ipynb",
      "provenance": [],
      "collapsed_sections": [],
      "authorship_tag": "ABX9TyPO5vlZtMVt/T7vqJsJTW2X",
      "include_colab_link": true
    },
    "kernelspec": {
      "name": "python3",
      "display_name": "Python 3"
    },
    "language_info": {
      "name": "python"
    }
  },
  "cells": [
    {
      "cell_type": "markdown",
      "metadata": {
        "id": "view-in-github",
        "colab_type": "text"
      },
      "source": [
        "<a href=\"https://colab.research.google.com/github/MarieGuertin/CapstoneGroup4/blob/main/kws/test/dfsdm_to_wav.ipynb\" target=\"_parent\"><img src=\"https://colab.research.google.com/assets/colab-badge.svg\" alt=\"Open In Colab\"/></a>"
      ]
    },
    {
      "cell_type": "markdown",
      "source": [
        "Enter text file name containing wav data:"
      ],
      "metadata": {
        "id": "9gGDpEGVtcr7"
      }
    },
    {
      "cell_type": "code",
      "source": [
        "file_name = 'new_recorder.txt'"
      ],
      "metadata": {
        "id": "7jekAUogtbfr"
      },
      "execution_count": 1,
      "outputs": []
    },
    {
      "cell_type": "code",
      "execution_count": 2,
      "metadata": {
        "colab": {
          "base_uri": "https://localhost:8080/"
        },
        "id": "ZurcX2WB6DNZ",
        "outputId": "687728b7-7d50-4470-b412-90c43815f070"
      },
      "outputs": [
        {
          "output_type": "stream",
          "name": "stdout",
          "text": [
            "16000\n"
          ]
        }
      ],
      "source": [
        "with open(file_name) as file:\n",
        "  dfsdm_output = list()\n",
        "  for line in file:\n",
        "    for word in line.split(','):\n",
        "      word = word.strip()\n",
        "      if word.isnumeric() or (word.startswith(\"-\") and word[1:].isnumeric()):\n",
        "        dfsdm_output.append(word)\n",
        "print(len(dfsdm_output))"
      ]
    },
    {
      "cell_type": "code",
      "source": [
        "pip install scipy"
      ],
      "metadata": {
        "colab": {
          "base_uri": "https://localhost:8080/"
        },
        "id": "Fod-5yYi7UWI",
        "outputId": "3234b197-d480-4d6b-869b-079dd9991d36"
      },
      "execution_count": 4,
      "outputs": [
        {
          "output_type": "stream",
          "name": "stdout",
          "text": [
            "Requirement already satisfied: scipy in /usr/local/lib/python3.7/dist-packages (1.4.1)\n",
            "Requirement already satisfied: numpy>=1.13.3 in /usr/local/lib/python3.7/dist-packages (from scipy) (1.19.5)\n"
          ]
        }
      ]
    },
    {
      "cell_type": "code",
      "source": [
        "import scipy\n",
        "from scipy import io\n",
        "from scipy.io import wavfile"
      ],
      "metadata": {
        "id": "nHaNv8D3uMlv"
      },
      "execution_count": 8,
      "outputs": []
    },
    {
      "cell_type": "code",
      "source": [
        "import numpy as np\n",
        "wavfile.write('output.wav', 16000, np.array(dfsdm_output).astype(np.int16))"
      ],
      "metadata": {
        "id": "1HnvFsBO6ln9"
      },
      "execution_count": 9,
      "outputs": []
    },
    {
      "cell_type": "code",
      "source": [
        ""
      ],
      "metadata": {
        "id": "KoPrrplO7MZ7"
      },
      "execution_count": null,
      "outputs": []
    }
  ]
}