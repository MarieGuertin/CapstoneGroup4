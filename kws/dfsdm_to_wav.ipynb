{
  "nbformat": 4,
  "nbformat_minor": 0,
  "metadata": {
    "colab": {
      "name": "dfsdm_to_wav.ipynb",
      "provenance": [],
      "collapsed_sections": [],
      "authorship_tag": "ABX9TyNikR3Rm4KVjoUleydcUXoc",
      "include_colab_link": true
    },
    "kernelspec": {
      "name": "python3",
      "display_name": "Python 3"
    },
    "language_info": {
      "name": "python"
    }
  },
  "cells": [
    {
      "cell_type": "markdown",
      "metadata": {
        "id": "view-in-github",
        "colab_type": "text"
      },
      "source": [
        "<a href=\"https://colab.research.google.com/github/MarieGuertin/CapstoneGroup4/blob/main/kws/dfsdm_to_wav.ipynb\" target=\"_parent\"><img src=\"https://colab.research.google.com/assets/colab-badge.svg\" alt=\"Open In Colab\"/></a>"
      ]
    },
    {
      "cell_type": "code",
      "execution_count": 20,
      "metadata": {
        "colab": {
          "base_uri": "https://localhost:8080/"
        },
        "id": "ZurcX2WB6DNZ",
        "outputId": "12655a1f-6d8a-4efb-9057-0adee21377b3"
      },
      "outputs": [
        {
          "output_type": "stream",
          "name": "stdout",
          "text": [
            "16000\n"
          ]
        }
      ],
      "source": [
        "with open('dfsdm.txt') as file:\n",
        "  dfsdm_output = list()\n",
        "  for line in file:\n",
        "    for word in line.split(','):\n",
        "      word = word.strip()\n",
        "      if word.isnumeric() or (word.startswith(\"-\") and word[1:].isnumeric()):\n",
        "        dfsdm_output.append(word)\n",
        "print(len(dfsdm_output))"
      ]
    },
    {
      "cell_type": "code",
      "source": [
        "pip install scipy"
      ],
      "metadata": {
        "colab": {
          "base_uri": "https://localhost:8080/"
        },
        "id": "Fod-5yYi7UWI",
        "outputId": "84953318-c541-4c23-e436-3e0b8802a5cf"
      },
      "execution_count": 6,
      "outputs": [
        {
          "output_type": "stream",
          "name": "stdout",
          "text": [
            "Requirement already satisfied: scipy in /usr/local/lib/python3.7/dist-packages (1.4.1)\n",
            "Requirement already satisfied: numpy>=1.13.3 in /usr/local/lib/python3.7/dist-packages (from scipy) (1.19.5)\n"
          ]
        }
      ]
    },
    {
      "cell_type": "code",
      "source": [
        "import scipy as sp\n",
        "import numpy as np\n",
        "sp.io.wavfile.write('output.wav', 16000, np.array(dfsdm_output).astype(np.int16))"
      ],
      "metadata": {
        "id": "1HnvFsBO6ln9"
      },
      "execution_count": 21,
      "outputs": []
    },
    {
      "cell_type": "code",
      "source": [
        ""
      ],
      "metadata": {
        "id": "KoPrrplO7MZ7"
      },
      "execution_count": null,
      "outputs": []
    }
  ]
}